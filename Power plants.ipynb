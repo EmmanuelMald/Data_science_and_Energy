{
 "cells": [
  {
   "cell_type": "code",
   "execution_count": 10,
   "metadata": {},
   "outputs": [],
   "source": [
    "import pandas as pd\n",
    "import numpy as np\n",
    "import seaborn as sn\n",
    "import matplotlib.pyplot as plt\n",
    "import zipfile"
   ]
  },
  {
   "cell_type": "code",
   "execution_count": 11,
   "metadata": {},
   "outputs": [
    {
     "name": "stderr",
     "output_type": "stream",
     "text": [
      "C:\\Users\\Emmanuel\\AppData\\Local\\Temp\\ipykernel_23308\\4170373324.py:1: DtypeWarning: Columns (10) have mixed types. Specify dtype option on import or set low_memory=False.\n",
      "  data=pd.read_csv(r\"C:\\Users\\Emmanuel\\OneDrive - Instituto Politecnico Nacional\\GITHUB\\Data_science_and_Energy\\global_power_plant_database.csv\")\n"
     ]
    }
   ],
   "source": [
    "data=pd.read_csv(r\"C:\\Users\\Emmanuel\\OneDrive - Instituto Politecnico Nacional\\GITHUB\\Data_science_and_Energy\\global_power_plant_database.csv\")"
   ]
  },
  {
   "cell_type": "code",
   "execution_count": 12,
   "metadata": {},
   "outputs": [
    {
     "name": "stdout",
     "output_type": "stream",
     "text": [
      "<class 'pandas.core.frame.DataFrame'>\n",
      "RangeIndex: 34936 entries, 0 to 34935\n",
      "Data columns (total 36 columns):\n",
      " #   Column                          Non-Null Count  Dtype  \n",
      "---  ------                          --------------  -----  \n",
      " 0   country                         34936 non-null  object \n",
      " 1   country_long                    34936 non-null  object \n",
      " 2   name                            34936 non-null  object \n",
      " 3   gppd_idnr                       34936 non-null  object \n",
      " 4   capacity_mw                     34936 non-null  float64\n",
      " 5   latitude                        34936 non-null  float64\n",
      " 6   longitude                       34936 non-null  float64\n",
      " 7   primary_fuel                    34936 non-null  object \n",
      " 8   other_fuel1                     1944 non-null   object \n",
      " 9   other_fuel2                     276 non-null    object \n",
      " 10  other_fuel3                     92 non-null     object \n",
      " 11  commissioning_year              17447 non-null  float64\n",
      " 12  owner                           20868 non-null  object \n",
      " 13  source                          34921 non-null  object \n",
      " 14  url                             34918 non-null  object \n",
      " 15  geolocation_source              34517 non-null  object \n",
      " 16  wepp_id                         16234 non-null  object \n",
      " 17  year_of_capacity_data           14887 non-null  float64\n",
      " 18  generation_gwh_2013             6417 non-null   float64\n",
      " 19  generation_gwh_2014             7226 non-null   float64\n",
      " 20  generation_gwh_2015             8203 non-null   float64\n",
      " 21  generation_gwh_2016             9144 non-null   float64\n",
      " 22  generation_gwh_2017             9500 non-null   float64\n",
      " 23  generation_gwh_2018             9637 non-null   float64\n",
      " 24  generation_gwh_2019             9659 non-null   float64\n",
      " 25  generation_data_source          11400 non-null  object \n",
      " 26  estimated_generation_gwh_2013   16120 non-null  float64\n",
      " 27  estimated_generation_gwh_2014   16503 non-null  float64\n",
      " 28  estimated_generation_gwh_2015   17050 non-null  float64\n",
      " 29  estimated_generation_gwh_2016   17570 non-null  float64\n",
      " 30  estimated_generation_gwh_2017   33138 non-null  float64\n",
      " 31  estimated_generation_note_2013  34936 non-null  object \n",
      " 32  estimated_generation_note_2014  34936 non-null  object \n",
      " 33  estimated_generation_note_2015  34936 non-null  object \n",
      " 34  estimated_generation_note_2016  34936 non-null  object \n",
      " 35  estimated_generation_note_2017  34936 non-null  object \n",
      "dtypes: float64(17), object(19)\n",
      "memory usage: 9.6+ MB\n"
     ]
    }
   ],
   "source": [
    "data.info()"
   ]
  },
  {
   "cell_type": "code",
   "execution_count": 13,
   "metadata": {},
   "outputs": [
    {
     "data": {
      "text/html": [
       "<div>\n",
       "<style scoped>\n",
       "    .dataframe tbody tr th:only-of-type {\n",
       "        vertical-align: middle;\n",
       "    }\n",
       "\n",
       "    .dataframe tbody tr th {\n",
       "        vertical-align: top;\n",
       "    }\n",
       "\n",
       "    .dataframe thead th {\n",
       "        text-align: right;\n",
       "    }\n",
       "</style>\n",
       "<table border=\"1\" class=\"dataframe\">\n",
       "  <thead>\n",
       "    <tr style=\"text-align: right;\">\n",
       "      <th></th>\n",
       "      <th>country</th>\n",
       "      <th>country_long</th>\n",
       "      <th>name</th>\n",
       "      <th>gppd_idnr</th>\n",
       "      <th>capacity_mw</th>\n",
       "      <th>latitude</th>\n",
       "      <th>longitude</th>\n",
       "      <th>primary_fuel</th>\n",
       "      <th>other_fuel1</th>\n",
       "      <th>other_fuel2</th>\n",
       "      <th>...</th>\n",
       "      <th>estimated_generation_gwh_2013</th>\n",
       "      <th>estimated_generation_gwh_2014</th>\n",
       "      <th>estimated_generation_gwh_2015</th>\n",
       "      <th>estimated_generation_gwh_2016</th>\n",
       "      <th>estimated_generation_gwh_2017</th>\n",
       "      <th>estimated_generation_note_2013</th>\n",
       "      <th>estimated_generation_note_2014</th>\n",
       "      <th>estimated_generation_note_2015</th>\n",
       "      <th>estimated_generation_note_2016</th>\n",
       "      <th>estimated_generation_note_2017</th>\n",
       "    </tr>\n",
       "  </thead>\n",
       "  <tbody>\n",
       "    <tr>\n",
       "      <th>0</th>\n",
       "      <td>AFG</td>\n",
       "      <td>Afghanistan</td>\n",
       "      <td>Kajaki Hydroelectric Power Plant Afghanistan</td>\n",
       "      <td>GEODB0040538</td>\n",
       "      <td>33.0</td>\n",
       "      <td>32.322</td>\n",
       "      <td>65.1190</td>\n",
       "      <td>Hydro</td>\n",
       "      <td>NaN</td>\n",
       "      <td>NaN</td>\n",
       "      <td>...</td>\n",
       "      <td>123.77</td>\n",
       "      <td>162.90</td>\n",
       "      <td>97.39</td>\n",
       "      <td>137.76</td>\n",
       "      <td>119.50</td>\n",
       "      <td>HYDRO-V1</td>\n",
       "      <td>HYDRO-V1</td>\n",
       "      <td>HYDRO-V1</td>\n",
       "      <td>HYDRO-V1</td>\n",
       "      <td>HYDRO-V1</td>\n",
       "    </tr>\n",
       "    <tr>\n",
       "      <th>1</th>\n",
       "      <td>AFG</td>\n",
       "      <td>Afghanistan</td>\n",
       "      <td>Kandahar DOG</td>\n",
       "      <td>WKS0070144</td>\n",
       "      <td>10.0</td>\n",
       "      <td>31.670</td>\n",
       "      <td>65.7950</td>\n",
       "      <td>Solar</td>\n",
       "      <td>NaN</td>\n",
       "      <td>NaN</td>\n",
       "      <td>...</td>\n",
       "      <td>18.43</td>\n",
       "      <td>17.48</td>\n",
       "      <td>18.25</td>\n",
       "      <td>17.70</td>\n",
       "      <td>18.29</td>\n",
       "      <td>SOLAR-V1-NO-AGE</td>\n",
       "      <td>SOLAR-V1-NO-AGE</td>\n",
       "      <td>SOLAR-V1-NO-AGE</td>\n",
       "      <td>SOLAR-V1-NO-AGE</td>\n",
       "      <td>SOLAR-V1-NO-AGE</td>\n",
       "    </tr>\n",
       "    <tr>\n",
       "      <th>2</th>\n",
       "      <td>AFG</td>\n",
       "      <td>Afghanistan</td>\n",
       "      <td>Kandahar JOL</td>\n",
       "      <td>WKS0071196</td>\n",
       "      <td>10.0</td>\n",
       "      <td>31.623</td>\n",
       "      <td>65.7920</td>\n",
       "      <td>Solar</td>\n",
       "      <td>NaN</td>\n",
       "      <td>NaN</td>\n",
       "      <td>...</td>\n",
       "      <td>18.64</td>\n",
       "      <td>17.58</td>\n",
       "      <td>19.10</td>\n",
       "      <td>17.62</td>\n",
       "      <td>18.72</td>\n",
       "      <td>SOLAR-V1-NO-AGE</td>\n",
       "      <td>SOLAR-V1-NO-AGE</td>\n",
       "      <td>SOLAR-V1-NO-AGE</td>\n",
       "      <td>SOLAR-V1-NO-AGE</td>\n",
       "      <td>SOLAR-V1-NO-AGE</td>\n",
       "    </tr>\n",
       "    <tr>\n",
       "      <th>3</th>\n",
       "      <td>AFG</td>\n",
       "      <td>Afghanistan</td>\n",
       "      <td>Mahipar Hydroelectric Power Plant Afghanistan</td>\n",
       "      <td>GEODB0040541</td>\n",
       "      <td>66.0</td>\n",
       "      <td>34.556</td>\n",
       "      <td>69.4787</td>\n",
       "      <td>Hydro</td>\n",
       "      <td>NaN</td>\n",
       "      <td>NaN</td>\n",
       "      <td>...</td>\n",
       "      <td>225.06</td>\n",
       "      <td>203.55</td>\n",
       "      <td>146.90</td>\n",
       "      <td>230.18</td>\n",
       "      <td>174.91</td>\n",
       "      <td>HYDRO-V1</td>\n",
       "      <td>HYDRO-V1</td>\n",
       "      <td>HYDRO-V1</td>\n",
       "      <td>HYDRO-V1</td>\n",
       "      <td>HYDRO-V1</td>\n",
       "    </tr>\n",
       "    <tr>\n",
       "      <th>4</th>\n",
       "      <td>AFG</td>\n",
       "      <td>Afghanistan</td>\n",
       "      <td>Naghlu Dam Hydroelectric Power Plant Afghanistan</td>\n",
       "      <td>GEODB0040534</td>\n",
       "      <td>100.0</td>\n",
       "      <td>34.641</td>\n",
       "      <td>69.7170</td>\n",
       "      <td>Hydro</td>\n",
       "      <td>NaN</td>\n",
       "      <td>NaN</td>\n",
       "      <td>...</td>\n",
       "      <td>406.16</td>\n",
       "      <td>357.22</td>\n",
       "      <td>270.99</td>\n",
       "      <td>395.38</td>\n",
       "      <td>350.80</td>\n",
       "      <td>HYDRO-V1</td>\n",
       "      <td>HYDRO-V1</td>\n",
       "      <td>HYDRO-V1</td>\n",
       "      <td>HYDRO-V1</td>\n",
       "      <td>HYDRO-V1</td>\n",
       "    </tr>\n",
       "  </tbody>\n",
       "</table>\n",
       "<p>5 rows × 36 columns</p>\n",
       "</div>"
      ],
      "text/plain": [
       "  country country_long                                              name   \n",
       "0     AFG  Afghanistan      Kajaki Hydroelectric Power Plant Afghanistan  \\\n",
       "1     AFG  Afghanistan                                      Kandahar DOG   \n",
       "2     AFG  Afghanistan                                      Kandahar JOL   \n",
       "3     AFG  Afghanistan     Mahipar Hydroelectric Power Plant Afghanistan   \n",
       "4     AFG  Afghanistan  Naghlu Dam Hydroelectric Power Plant Afghanistan   \n",
       "\n",
       "      gppd_idnr  capacity_mw  latitude  longitude primary_fuel other_fuel1   \n",
       "0  GEODB0040538         33.0    32.322    65.1190        Hydro         NaN  \\\n",
       "1    WKS0070144         10.0    31.670    65.7950        Solar         NaN   \n",
       "2    WKS0071196         10.0    31.623    65.7920        Solar         NaN   \n",
       "3  GEODB0040541         66.0    34.556    69.4787        Hydro         NaN   \n",
       "4  GEODB0040534        100.0    34.641    69.7170        Hydro         NaN   \n",
       "\n",
       "  other_fuel2  ... estimated_generation_gwh_2013   \n",
       "0         NaN  ...                        123.77  \\\n",
       "1         NaN  ...                         18.43   \n",
       "2         NaN  ...                         18.64   \n",
       "3         NaN  ...                        225.06   \n",
       "4         NaN  ...                        406.16   \n",
       "\n",
       "   estimated_generation_gwh_2014 estimated_generation_gwh_2015   \n",
       "0                         162.90                         97.39  \\\n",
       "1                          17.48                         18.25   \n",
       "2                          17.58                         19.10   \n",
       "3                         203.55                        146.90   \n",
       "4                         357.22                        270.99   \n",
       "\n",
       "  estimated_generation_gwh_2016 estimated_generation_gwh_2017   \n",
       "0                        137.76                        119.50  \\\n",
       "1                         17.70                         18.29   \n",
       "2                         17.62                         18.72   \n",
       "3                        230.18                        174.91   \n",
       "4                        395.38                        350.80   \n",
       "\n",
       "  estimated_generation_note_2013 estimated_generation_note_2014   \n",
       "0                       HYDRO-V1                       HYDRO-V1  \\\n",
       "1                SOLAR-V1-NO-AGE                SOLAR-V1-NO-AGE   \n",
       "2                SOLAR-V1-NO-AGE                SOLAR-V1-NO-AGE   \n",
       "3                       HYDRO-V1                       HYDRO-V1   \n",
       "4                       HYDRO-V1                       HYDRO-V1   \n",
       "\n",
       "   estimated_generation_note_2015  estimated_generation_note_2016   \n",
       "0                        HYDRO-V1                        HYDRO-V1  \\\n",
       "1                 SOLAR-V1-NO-AGE                 SOLAR-V1-NO-AGE   \n",
       "2                 SOLAR-V1-NO-AGE                 SOLAR-V1-NO-AGE   \n",
       "3                        HYDRO-V1                        HYDRO-V1   \n",
       "4                        HYDRO-V1                        HYDRO-V1   \n",
       "\n",
       "   estimated_generation_note_2017  \n",
       "0                        HYDRO-V1  \n",
       "1                 SOLAR-V1-NO-AGE  \n",
       "2                 SOLAR-V1-NO-AGE  \n",
       "3                        HYDRO-V1  \n",
       "4                        HYDRO-V1  \n",
       "\n",
       "[5 rows x 36 columns]"
      ]
     },
     "execution_count": 13,
     "metadata": {},
     "output_type": "execute_result"
    }
   ],
   "source": [
    "data.head()"
   ]
  },
  {
   "cell_type": "code",
   "execution_count": 17,
   "metadata": {},
   "outputs": [],
   "source": [
    "Mex=data[data.country_long==\"Mexico\"]"
   ]
  },
  {
   "cell_type": "code",
   "execution_count": 18,
   "metadata": {},
   "outputs": [
    {
     "data": {
      "text/plain": [
       "(277, 36)"
      ]
     },
     "execution_count": 18,
     "metadata": {},
     "output_type": "execute_result"
    }
   ],
   "source": [
    "Mex.shape"
   ]
  },
  {
   "cell_type": "code",
   "execution_count": 25,
   "metadata": {},
   "outputs": [
    {
     "data": {
      "text/plain": [
       "1586.8"
      ]
     },
     "execution_count": 25,
     "metadata": {},
     "output_type": "execute_result"
    }
   ],
   "source": [
    "Mex_wind_mw_capacity=round(Mex[Mex.primary_fuel==\"Wind\"].capacity_mw.sum(),2)\n",
    "Mex_wind_mw_capacity"
   ]
  },
  {
   "cell_type": "code",
   "execution_count": 26,
   "metadata": {},
   "outputs": [],
   "source": [
    "Mex_solar_mw_capacity=round(Mex[Mex.primary_fuel==\"Solar\"].capacity_mw.sum(),2)"
   ]
  },
  {
   "cell_type": "code",
   "execution_count": 27,
   "metadata": {},
   "outputs": [],
   "source": [
    "# MW/m2 del territorio\n",
    "#Población"
   ]
  },
  {
   "attachments": {},
   "cell_type": "markdown",
   "metadata": {},
   "source": [
    "1.- On average, how much energy does a person on each country consumes each year?\n",
    "\n",
    "Data needed: \n",
    "- Energy generation by year \n",
    "- Population of each country\n"
   ]
  },
  {
   "attachments": {},
   "cell_type": "markdown",
   "metadata": {},
   "source": [
    "2.- How much installed energy power does every country has respect to their size?\n",
    "\n",
    "Data needed: \n",
    "- Cummulative power installed by country \n",
    "- Size of each country"
   ]
  },
  {
   "attachments": {},
   "cell_type": "markdown",
   "metadata": {},
   "source": [
    "3.- How much installed green power of each country represents respect to the full power capacity?\n",
    "\n",
    "Data needed: \n",
    "- Power generation infrastructure by country"
   ]
  },
  {
   "attachments": {},
   "cell_type": "markdown",
   "metadata": {},
   "source": [
    "4.- Top 5 countries with the highest power generation infrastructure."
   ]
  },
  {
   "attachments": {},
   "cell_type": "markdown",
   "metadata": {},
   "source": [
    "5.- Top 5 countries with the highest clean energy generation."
   ]
  },
  {
   "attachments": {},
   "cell_type": "markdown",
   "metadata": {},
   "source": []
  }
 ],
 "metadata": {
  "kernelspec": {
   "display_name": "Python 3",
   "language": "python",
   "name": "python3"
  },
  "language_info": {
   "codemirror_mode": {
    "name": "ipython",
    "version": 3
   },
   "file_extension": ".py",
   "mimetype": "text/x-python",
   "name": "python",
   "nbconvert_exporter": "python",
   "pygments_lexer": "ipython3",
   "version": "3.11.2"
  },
  "orig_nbformat": 4
 },
 "nbformat": 4,
 "nbformat_minor": 2
}
