{
 "cells": [
  {
   "attachments": {},
   "cell_type": "markdown",
   "metadata": {},
   "source": [
    "# **Analyzing the DB provided in [software Product Ops-Exercise](https://docs.google.com/document/d/19UxTwAMdDQZG0pixRrIw-Erl77xL4fJpJ9MqaXBwudM/edit)**\n",
    "\n",
    "Elaborated by: **Emmanuel Amador Maldonado**\n",
    "\n",
    "Requested position: **Software Producr Ops Analyst**"
   ]
  },
  {
   "attachments": {},
   "cell_type": "markdown",
   "metadata": {},
   "source": [
    "**Jupyter notebooks are capable to read, extract, analyze and upload data to Data Base Management Systems (DBMS) using SQL code. I will use this type of file because is also capable to provide comments and python code, and graphics.**"
   ]
  },
  {
   "attachments": {},
   "cell_type": "markdown",
   "metadata": {},
   "source": [
    "### **Step 1: Creating the connection to the DB using SQLite**\n",
    "\n",
    "I have already downloaded the .sqlite file.\n",
    "\n",
    "Then I will import the python library sqlite3, where I can work and upload data to the DB, and other libraries to make filtering, cleaning, analysis and visualization of data."
   ]
  },
  {
   "cell_type": "code",
   "execution_count": 5,
   "metadata": {},
   "outputs": [],
   "source": [
    "import sqlite3\n",
    "import pandas as pd\n",
    "import numpy as np\n",
    "import matplotlib.pyplot as plt\n",
    "import seaborn as sns\n",
    "from datetime import datetime"
   ]
  },
  {
   "cell_type": "code",
   "execution_count": 6,
   "metadata": {},
   "outputs": [],
   "source": [
    "con=sqlite3.connect(r\"C:\\Users\\Emmanuel\\Desktop\\bright.sqlite\")\n",
    "cursor=con.cursor()"
   ]
  },
  {
   "attachments": {},
   "cell_type": "markdown",
   "metadata": {},
   "source": [
    "Once connected to the DB, I will load a jupyter complement that will allow me writing SQL code. This complement is loaded in the next code line:"
   ]
  },
  {
   "cell_type": "code",
   "execution_count": 7,
   "metadata": {},
   "outputs": [
    {
     "name": "stdout",
     "output_type": "stream",
     "text": [
      "The sql extension is already loaded. To reload it, use:\n",
      "  %reload_ext sql\n"
     ]
    }
   ],
   "source": [
    "%load_ext sql"
   ]
  },
  {
   "attachments": {},
   "cell_type": "markdown",
   "metadata": {},
   "source": [
    "Then, I will connect to the DB with this extension"
   ]
  },
  {
   "cell_type": "code",
   "execution_count": 8,
   "metadata": {},
   "outputs": [],
   "source": [
    "%sql sqlite:///C:\\Users\\Emmanuel\\Desktop\\bright.sqlite"
   ]
  },
  {
   "attachments": {},
   "cell_type": "markdown",
   "metadata": {},
   "source": [
    "Now we are ready to start the analysis and first approach to the DB tables."
   ]
  },
  {
   "attachments": {},
   "cell_type": "markdown",
   "metadata": {},
   "source": [
    "### **PROBLEM 1** (Analysis and visualization of the DB)\n",
    "\n",
    "*Instructions:\n",
    "Visualize/analyze one of our conversion rates (listed above) in whatever way you see fit.\n",
    "OR\n",
    "Visualize/analyze our installation or interconnection speed in whatever way you see fit.\n",
    "OR\n",
    "Find something interesting to analyze that showcases your unique skills!*\n"
   ]
  },
  {
   "attachments": {},
   "cell_type": "markdown",
   "metadata": {},
   "source": [
    "As mention in the task, there are three tables.\n",
    "\n",
    "- Lead\n",
    "- Event\n",
    "- Attribute"
   ]
  },
  {
   "attachments": {},
   "cell_type": "markdown",
   "metadata": {},
   "source": [
    "I will load this tables into Python, and look for missing data or data types that needs to be transform for the analysis."
   ]
  },
  {
   "cell_type": "code",
   "execution_count": 9,
   "metadata": {},
   "outputs": [
    {
     "name": "stdout",
     "output_type": "stream",
     "text": [
      " * sqlite:///C:\\Users\\Emmanuel\\Desktop\\bright.sqlite\n",
      "Done.\n"
     ]
    },
    {
     "data": {
      "text/html": [
       "<div>\n",
       "<style scoped>\n",
       "    .dataframe tbody tr th:only-of-type {\n",
       "        vertical-align: middle;\n",
       "    }\n",
       "\n",
       "    .dataframe tbody tr th {\n",
       "        vertical-align: top;\n",
       "    }\n",
       "\n",
       "    .dataframe thead th {\n",
       "        text-align: right;\n",
       "    }\n",
       "</style>\n",
       "<table border=\"1\" class=\"dataframe\">\n",
       "  <thead>\n",
       "    <tr style=\"text-align: right;\">\n",
       "      <th></th>\n",
       "      <th>lead_id</th>\n",
       "      <th>created_at</th>\n",
       "    </tr>\n",
       "  </thead>\n",
       "  <tbody>\n",
       "    <tr>\n",
       "      <th>0</th>\n",
       "      <td>662958237495922433</td>\n",
       "      <td>2015-01-09T05:46:27Z</td>\n",
       "    </tr>\n",
       "    <tr>\n",
       "      <th>1</th>\n",
       "      <td>5936803624202314553</td>\n",
       "      <td>2015-01-10T22:49:25Z</td>\n",
       "    </tr>\n",
       "  </tbody>\n",
       "</table>\n",
       "</div>"
      ],
      "text/plain": [
       "               lead_id            created_at\n",
       "0   662958237495922433  2015-01-09T05:46:27Z\n",
       "1  5936803624202314553  2015-01-10T22:49:25Z"
      ]
     },
     "execution_count": 9,
     "metadata": {},
     "output_type": "execute_result"
    }
   ],
   "source": [
    "lead=%sql SELECT * FROM lead; \n",
    "lead=lead.DataFrame()\n",
    "lead.head(2)\n",
    "# read all the table in sql code and save it in the lead variable\n",
    "#then, convert sql table into a pandas (python) table"
   ]
  },
  {
   "cell_type": "code",
   "execution_count": 10,
   "metadata": {},
   "outputs": [
    {
     "name": "stdout",
     "output_type": "stream",
     "text": [
      " * sqlite:///C:\\Users\\Emmanuel\\Desktop\\bright.sqlite\n",
      "Done.\n"
     ]
    },
    {
     "data": {
      "text/html": [
       "<div>\n",
       "<style scoped>\n",
       "    .dataframe tbody tr th:only-of-type {\n",
       "        vertical-align: middle;\n",
       "    }\n",
       "\n",
       "    .dataframe tbody tr th {\n",
       "        vertical-align: top;\n",
       "    }\n",
       "\n",
       "    .dataframe thead th {\n",
       "        text-align: right;\n",
       "    }\n",
       "</style>\n",
       "<table border=\"1\" class=\"dataframe\">\n",
       "  <thead>\n",
       "    <tr style=\"text-align: right;\">\n",
       "      <th></th>\n",
       "      <th>event_id</th>\n",
       "      <th>user_id</th>\n",
       "      <th>lead_id</th>\n",
       "      <th>created_at</th>\n",
       "      <th>event_type</th>\n",
       "    </tr>\n",
       "  </thead>\n",
       "  <tbody>\n",
       "    <tr>\n",
       "      <th>0</th>\n",
       "      <td>662958237495922433</td>\n",
       "      <td>9086291099700738296</td>\n",
       "      <td>662958237495922433</td>\n",
       "      <td>2015-01-09T05:46:27Z</td>\n",
       "      <td>lead.created</td>\n",
       "    </tr>\n",
       "    <tr>\n",
       "      <th>1</th>\n",
       "      <td>5936803624202314553</td>\n",
       "      <td>9086291099700738296</td>\n",
       "      <td>5936803624202314553</td>\n",
       "      <td>2015-01-10T22:49:25Z</td>\n",
       "      <td>lead.created</td>\n",
       "    </tr>\n",
       "  </tbody>\n",
       "</table>\n",
       "</div>"
      ],
      "text/plain": [
       "              event_id              user_id              lead_id   \n",
       "0   662958237495922433  9086291099700738296   662958237495922433  \\\n",
       "1  5936803624202314553  9086291099700738296  5936803624202314553   \n",
       "\n",
       "             created_at    event_type  \n",
       "0  2015-01-09T05:46:27Z  lead.created  \n",
       "1  2015-01-10T22:49:25Z  lead.created  "
      ]
     },
     "execution_count": 10,
     "metadata": {},
     "output_type": "execute_result"
    }
   ],
   "source": [
    "event=%sql SELECT * FROM event;\n",
    "event=event.DataFrame()\n",
    "event.head(2)"
   ]
  },
  {
   "cell_type": "code",
   "execution_count": 11,
   "metadata": {},
   "outputs": [
    {
     "name": "stdout",
     "output_type": "stream",
     "text": [
      " * sqlite:///C:\\Users\\Emmanuel\\Desktop\\bright.sqlite\n",
      "Done.\n"
     ]
    },
    {
     "data": {
      "text/html": [
       "<div>\n",
       "<style scoped>\n",
       "    .dataframe tbody tr th:only-of-type {\n",
       "        vertical-align: middle;\n",
       "    }\n",
       "\n",
       "    .dataframe tbody tr th {\n",
       "        vertical-align: top;\n",
       "    }\n",
       "\n",
       "    .dataframe thead th {\n",
       "        text-align: right;\n",
       "    }\n",
       "</style>\n",
       "<table border=\"1\" class=\"dataframe\">\n",
       "  <thead>\n",
       "    <tr style=\"text-align: right;\">\n",
       "      <th></th>\n",
       "      <th>lead_id</th>\n",
       "      <th>name</th>\n",
       "      <th>value</th>\n",
       "    </tr>\n",
       "  </thead>\n",
       "  <tbody>\n",
       "    <tr>\n",
       "      <th>0</th>\n",
       "      <td>4034644098856872731</td>\n",
       "      <td>ecUserId</td>\n",
       "      <td>6827679502985037031</td>\n",
       "    </tr>\n",
       "    <tr>\n",
       "      <th>1</th>\n",
       "      <td>2522396480838382595</td>\n",
       "      <td>ecUserId</td>\n",
       "      <td>4163434151428399388</td>\n",
       "    </tr>\n",
       "  </tbody>\n",
       "</table>\n",
       "</div>"
      ],
      "text/plain": [
       "               lead_id      name                value\n",
       "0  4034644098856872731  ecUserId  6827679502985037031\n",
       "1  2522396480838382595  ecUserId  4163434151428399388"
      ]
     },
     "execution_count": 11,
     "metadata": {},
     "output_type": "execute_result"
    }
   ],
   "source": [
    "attr=%sql SELECT * FROM attribute;\n",
    "attr=attr.DataFrame()\n",
    "attr.head(2)"
   ]
  },
  {
   "cell_type": "code",
   "execution_count": 12,
   "metadata": {},
   "outputs": [
    {
     "name": "stdout",
     "output_type": "stream",
     "text": [
      "<class 'pandas.core.frame.DataFrame'>\n",
      "RangeIndex: 176229 entries, 0 to 176228\n",
      "Data columns (total 2 columns):\n",
      " #   Column      Non-Null Count   Dtype \n",
      "---  ------      --------------   ----- \n",
      " 0   lead_id     176229 non-null  int64 \n",
      " 1   created_at  176229 non-null  object\n",
      "dtypes: int64(1), object(1)\n",
      "memory usage: 2.7+ MB\n"
     ]
    }
   ],
   "source": [
    "lead.info() #give me the information of the table, such as \n",
    "#non-missing values and data types"
   ]
  },
  {
   "cell_type": "code",
   "execution_count": 13,
   "metadata": {},
   "outputs": [
    {
     "name": "stdout",
     "output_type": "stream",
     "text": [
      "<class 'pandas.core.frame.DataFrame'>\n",
      "RangeIndex: 337661 entries, 0 to 337660\n",
      "Data columns (total 3 columns):\n",
      " #   Column   Non-Null Count   Dtype \n",
      "---  ------   --------------   ----- \n",
      " 0   lead_id  337661 non-null  int64 \n",
      " 1   name     337661 non-null  object\n",
      " 2   value    337661 non-null  object\n",
      "dtypes: int64(1), object(2)\n",
      "memory usage: 7.7+ MB\n"
     ]
    }
   ],
   "source": [
    "attr.info()"
   ]
  },
  {
   "cell_type": "code",
   "execution_count": 14,
   "metadata": {},
   "outputs": [
    {
     "name": "stdout",
     "output_type": "stream",
     "text": [
      "<class 'pandas.core.frame.DataFrame'>\n",
      "RangeIndex: 1571286 entries, 0 to 1571285\n",
      "Data columns (total 5 columns):\n",
      " #   Column      Non-Null Count    Dtype \n",
      "---  ------      --------------    ----- \n",
      " 0   event_id    1571286 non-null  int64 \n",
      " 1   user_id     1571286 non-null  int64 \n",
      " 2   lead_id     1571286 non-null  int64 \n",
      " 3   created_at  1571286 non-null  object\n",
      " 4   event_type  1571286 non-null  object\n",
      "dtypes: int64(3), object(2)\n",
      "memory usage: 59.9+ MB\n"
     ]
    }
   ],
   "source": [
    "event.info()"
   ]
  },
  {
   "attachments": {},
   "cell_type": "markdown",
   "metadata": {},
   "source": [
    "All the table values are correct (It is not required to make a cleansing)"
   ]
  },
  {
   "attachments": {},
   "cell_type": "markdown",
   "metadata": {},
   "source": [
    "### **Approved conversion rate**"
   ]
  },
  {
   "attachments": {},
   "cell_type": "markdown",
   "metadata": {},
   "source": [
    " #### **1.1- For all the leads uploaded, what percentage of them convert to becoming approved customers?**"
   ]
  },
  {
   "attachments": {},
   "cell_type": "markdown",
   "metadata": {},
   "source": [
    "While I was doing the queries in both, python and sql codes, I found something interesting. \n",
    "\n",
    "If we search for those data that in event_type column has ***Contract.approved***, we can find that the *percentage of approved customers* is **5 %**. \n",
    "\n",
    "Nevertheless, if we look for the exact description ***doc.subscriptionContract.approved**, we found that the percentage of approved customers is actually **2.3 %**\n",
    "\n",
    "That is because there must be another parameter that has *Contract.approved* in their description. If we look for them, we can find that those descriptions are: \n",
    "        \n",
    "        - doc.subscriptionContract.approved\n",
    "        - doc.installationContract.approved\n",
    "        - doc.interconnectionContract.approved  \n",
    "\n",
    "So the first query will be wrong. Just 2.3 % of leads becomes approved customers."
   ]
  },
  {
   "attachments": {},
   "cell_type": "markdown",
   "metadata": {},
   "source": [
    "**SQL CODE: using LIKE \"%Contract.approved%\" in the query**"
   ]
  },
  {
   "cell_type": "code",
   "execution_count": 15,
   "metadata": {},
   "outputs": [
    {
     "name": "stdout",
     "output_type": "stream",
     "text": [
      " * sqlite:///C:\\Users\\Emmanuel\\Desktop\\bright.sqlite\n",
      "Done.\n"
     ]
    },
    {
     "data": {
      "text/html": [
       "<table>\n",
       "    <thead>\n",
       "        <tr>\n",
       "            <th>Percentage leads approved</th>\n",
       "        </tr>\n",
       "    </thead>\n",
       "    <tbody>\n",
       "        <tr>\n",
       "            <td>5</td>\n",
       "        </tr>\n",
       "    </tbody>\n",
       "</table>"
      ],
      "text/plain": [
       "[(5,)]"
      ]
     },
     "execution_count": 15,
     "metadata": {},
     "output_type": "execute_result"
    }
   ],
   "source": [
    "%%sql\n",
    "SELECT 100 * (SELECT COUNT(*) FROM event\n",
    "WHERE event_type LIKE \"%Contract.approved%\")/COUNT(*) AS \"Percentage leads approved\" \n",
    "FROM lead;"
   ]
  },
  {
   "attachments": {},
   "cell_type": "markdown",
   "metadata": {},
   "source": [
    "**SQL CODE: using the exact name \"doc.subscriptionContract.approved\" in the query**"
   ]
  },
  {
   "cell_type": "code",
   "execution_count": 16,
   "metadata": {},
   "outputs": [
    {
     "name": "stdout",
     "output_type": "stream",
     "text": [
      " * sqlite:///C:\\Users\\Emmanuel\\Desktop\\bright.sqlite\n",
      "Done.\n"
     ]
    },
    {
     "data": {
      "text/html": [
       "<table>\n",
       "    <thead>\n",
       "        <tr>\n",
       "            <th>Percentage leads approved</th>\n",
       "        </tr>\n",
       "    </thead>\n",
       "    <tbody>\n",
       "        <tr>\n",
       "            <td>2</td>\n",
       "        </tr>\n",
       "    </tbody>\n",
       "</table>"
      ],
      "text/plain": [
       "[(2,)]"
      ]
     },
     "execution_count": 16,
     "metadata": {},
     "output_type": "execute_result"
    }
   ],
   "source": [
    "%%sql\n",
    "SELECT 100*(SELECT COUNT(*) FROM event\n",
    "WHERE event_type = \"doc.subscriptionContract.approved\")/COUNT(*) AS \"Percentage leads approved\"\n",
    "FROM lead"
   ]
  },
  {
   "attachments": {},
   "cell_type": "markdown",
   "metadata": {},
   "source": [
    "**PYTHON CODE**"
   ]
  },
  {
   "cell_type": "code",
   "execution_count": 17,
   "metadata": {},
   "outputs": [
    {
     "name": "stdout",
     "output_type": "stream",
     "text": [
      "The percentage of approved customers is 2.36 %\n"
     ]
    }
   ],
   "source": [
    "approved='doc.subscriptionContract.approved'\n",
    "APP=100* len(event.query(\"event_type == @approved\"))/len(lead)\n",
    "print(f\"The percentage of approved customers is {round(APP,2)} %\")"
   ]
  },
  {
   "attachments": {},
   "cell_type": "markdown",
   "metadata": {},
   "source": [
    "Getting the names of the events that has \"Contract.approved\""
   ]
  },
  {
   "attachments": {},
   "cell_type": "markdown",
   "metadata": {},
   "source": [
    "**Using SQL:**"
   ]
  },
  {
   "cell_type": "code",
   "execution_count": 18,
   "metadata": {},
   "outputs": [
    {
     "name": "stdout",
     "output_type": "stream",
     "text": [
      " * sqlite:///C:\\Users\\Emmanuel\\Desktop\\bright.sqlite\n",
      "Done.\n"
     ]
    },
    {
     "data": {
      "text/html": [
       "<table>\n",
       "    <thead>\n",
       "        <tr>\n",
       "            <th>event_type</th>\n",
       "        </tr>\n",
       "    </thead>\n",
       "    <tbody>\n",
       "        <tr>\n",
       "            <td>doc.subscriptionContract.approved</td>\n",
       "        </tr>\n",
       "        <tr>\n",
       "            <td>doc.interconnectionContract.approved</td>\n",
       "        </tr>\n",
       "        <tr>\n",
       "            <td>doc.installationContract.approved</td>\n",
       "        </tr>\n",
       "    </tbody>\n",
       "</table>"
      ],
      "text/plain": [
       "[('doc.subscriptionContract.approved',),\n",
       " ('doc.interconnectionContract.approved',),\n",
       " ('doc.installationContract.approved',)]"
      ]
     },
     "execution_count": 18,
     "metadata": {},
     "output_type": "execute_result"
    }
   ],
   "source": [
    "%%sql\n",
    "\n",
    "SELECT DISTINCT event_type FROM event\n",
    "WHERE event_type LIKE \"%Contract.approved%\" "
   ]
  },
  {
   "attachments": {},
   "cell_type": "markdown",
   "metadata": {},
   "source": [
    "##### **1.2 How installed leads has growth trough years.**\n",
    "\n",
    "To do so, I need to first sum each lead with the same year of installation."
   ]
  },
  {
   "cell_type": "code",
   "execution_count": 44,
   "metadata": {},
   "outputs": [
    {
     "name": "stdout",
     "output_type": "stream",
     "text": [
      " * sqlite:///C:\\Users\\Emmanuel\\Desktop\\bright.sqlite\n",
      "Done.\n"
     ]
    },
    {
     "data": {
      "text/html": [
       "<table>\n",
       "    <thead>\n",
       "        <tr>\n",
       "            <th>strftime(&quot;%Y&quot;, created_at)</th>\n",
       "            <th>COUNT(*)</th>\n",
       "        </tr>\n",
       "    </thead>\n",
       "    <tbody>\n",
       "        <tr>\n",
       "            <td>2014</td>\n",
       "            <td>49</td>\n",
       "        </tr>\n",
       "        <tr>\n",
       "            <td>2015</td>\n",
       "            <td>3584</td>\n",
       "        </tr>\n",
       "        <tr>\n",
       "            <td>2016</td>\n",
       "            <td>27427</td>\n",
       "        </tr>\n",
       "        <tr>\n",
       "            <td>2017</td>\n",
       "            <td>118783</td>\n",
       "        </tr>\n",
       "        <tr>\n",
       "            <td>2018</td>\n",
       "            <td>191146</td>\n",
       "        </tr>\n",
       "        <tr>\n",
       "            <td>2019</td>\n",
       "            <td>340787</td>\n",
       "        </tr>\n",
       "        <tr>\n",
       "            <td>2020</td>\n",
       "            <td>434748</td>\n",
       "        </tr>\n",
       "        <tr>\n",
       "            <td>2021</td>\n",
       "            <td>454762</td>\n",
       "        </tr>\n",
       "    </tbody>\n",
       "</table>"
      ],
      "text/plain": [
       "[('2014', 49),\n",
       " ('2015', 3584),\n",
       " ('2016', 27427),\n",
       " ('2017', 118783),\n",
       " ('2018', 191146),\n",
       " ('2019', 340787),\n",
       " ('2020', 434748),\n",
       " ('2021', 454762)]"
      ]
     },
     "execution_count": 44,
     "metadata": {},
     "output_type": "execute_result"
    }
   ],
   "source": [
    "%%sql \n",
    "SELECT strftime(\"%Y\", created_at), COUNT(*) FROM event\n",
    "\n",
    "GROUP BY strftime(\"%Y\", created_at);"
   ]
  },
  {
   "attachments": {},
   "cell_type": "markdown",
   "metadata": {},
   "source": [
    "**Using SQL**:"
   ]
  },
  {
   "cell_type": "code",
   "execution_count": 19,
   "metadata": {},
   "outputs": [
    {
     "name": "stdout",
     "output_type": "stream",
     "text": [
      " * sqlite:///C:\\Users\\Emmanuel\\Desktop\\bright.sqlite\n",
      "Done.\n"
     ]
    },
    {
     "data": {
      "text/html": [
       "<table>\n",
       "    <thead>\n",
       "        <tr>\n",
       "            <th>year</th>\n",
       "            <th>sum</th>\n",
       "        </tr>\n",
       "    </thead>\n",
       "    <tbody>\n",
       "        <tr>\n",
       "            <td>2017</td>\n",
       "            <td>1261</td>\n",
       "        </tr>\n",
       "        <tr>\n",
       "            <td>2018</td>\n",
       "            <td>640</td>\n",
       "        </tr>\n",
       "        <tr>\n",
       "            <td>2019</td>\n",
       "            <td>645</td>\n",
       "        </tr>\n",
       "        <tr>\n",
       "            <td>2020</td>\n",
       "            <td>893</td>\n",
       "        </tr>\n",
       "        <tr>\n",
       "            <td>2021</td>\n",
       "            <td>1149</td>\n",
       "        </tr>\n",
       "    </tbody>\n",
       "</table>"
      ],
      "text/plain": [
       "[('2017', 1261), ('2018', 640), ('2019', 645), ('2020', 893), ('2021', 1149)]"
      ]
     },
     "execution_count": 19,
     "metadata": {},
     "output_type": "execute_result"
    }
   ],
   "source": [
    "%%sql\n",
    "\n",
    "SELECT strftime(\"%Y\", created_at) AS year, COUNT(strftime(\"%Y\", created_at)) AS sum\n",
    "FROM event\n",
    "WHERE event_type ='doc.installationComplete.uploaded'\n",
    "GROUP BY strftime(\"%Y\", created_at);\n"
   ]
  },
  {
   "attachments": {},
   "cell_type": "markdown",
   "metadata": {},
   "source": [
    "**Using Python:**"
   ]
  },
  {
   "cell_type": "code",
   "execution_count": 108,
   "metadata": {},
   "outputs": [
    {
     "data": {
      "text/plain": [
       "{'2017': 1261, '2018': 640, '2019': 645, '2020': 893, '2021': 1149}"
      ]
     },
     "execution_count": 108,
     "metadata": {},
     "output_type": "execute_result"
    }
   ],
   "source": [
    "years={} #creates an empty dictionary\n",
    "dates=event.query(\"event_type == 'doc.installationComplete.uploaded'\").created_at.tolist()\n",
    "# get a list of dates from the leads table\n",
    "for date in dates:\n",
    "    year=date.split(\"-\")[0] #get the year of lead creation\n",
    "    if year not in years: \n",
    "        years[year]=years.get(year,1) # add the year to the dictionary and set a value of 1\n",
    "    else:\n",
    "        years[year]=years.get(year)+1 # if year exist in the dictionary, then add 1 to the count\n",
    "\n",
    "years#show how many installation system has been done each year"
   ]
  },
  {
   "attachments": {},
   "cell_type": "markdown",
   "metadata": {},
   "source": [
    "Then, I need to find the growth rate of the installed systems. To do so, I will only use Python and the gradient (rate of growth, can be positive or negative)\n",
    "\n",
    "First, I find the increase or decrease of installed systems each year, and then I divide that value by the net installed system each year to find the percentage of increase or decrease."
   ]
  },
  {
   "cell_type": "code",
   "execution_count": 109,
   "metadata": {},
   "outputs": [
    {
     "data": {
      "text/plain": [
       "array([-49.24662966, -48.125     ,  19.6124031 ,  28.21948488,\n",
       "        22.28024369])"
      ]
     },
     "execution_count": 109,
     "metadata": {},
     "output_type": "execute_result"
    }
   ],
   "source": [
    "growth_rate=np.divide(100*np.gradient(list(years.values())),np.array(list(map(float,years.values())))) # how much installed growth does the company has each year\n",
    "growth_rate"
   ]
  },
  {
   "attachments": {},
   "cell_type": "markdown",
   "metadata": {},
   "source": [
    "I will plot the results of the Annual total installed systems and growth rate"
   ]
  },
  {
   "cell_type": "code",
   "execution_count": 110,
   "metadata": {},
   "outputs": [
    {
     "data": {
      "image/png": "[encoded data removed]",
      "text/plain": [
       "<Figure size 1000x800 with 2 Axes>"
      ]
     },
     "metadata": {},
     "output_type": "display_data"
    },
    {
     "name": "stdout",
     "output_type": "stream",
     "text": [
      "The median growth value of installed systems from 2017 to 2021 each year was 20 % , meanwhile the maximum growth was of 28.21948488241881 systems/year during 2021\n"
     ]
    }
   ],
   "source": [
    "fig,ax1 = plt.subplots(figsize=(10,8))\n",
    "\n",
    "p1=sns.barplot(x=list(years.keys()),\n",
    "            y=list(years.values()),\n",
    "            color=\"#F7A400\", # orange color in hexadecimal\n",
    "            width=0.7,\n",
    "            ax=ax1,\n",
    "            label=\"Installed systems\"\n",
    "            )\n",
    "p1.set_title(\"Installed systems and annual growth rate\")\n",
    "p1.legend(loc=(0.2,0.9),frameon=False)\n",
    "p1.set_ylabel(\"Installed systems\")\n",
    "\n",
    "for i in p1.containers:\n",
    "    p1.bar_label(i,)\n",
    "    \n",
    "ax2=ax1.twinx()\n",
    "p2=sns.lineplot(data=growth_rate, \n",
    "             marker=\"o\",\n",
    "             label=\"installed growth rate\",\n",
    "             ax=ax2\n",
    "             )\n",
    "p2.set_ylabel(\"Increase/Decrease of installed systems per year (%)\")\n",
    "p2.legend(loc=(0.2,0.87), frameon=False)\n",
    "\n",
    "\n",
    "plt.show()\n",
    "\n",
    "print(f\"The median growth value of installed systems from 2017 to 2021 each year was {round(np.median(growth_rate))} % , meanwhile the maximum growth was of {growth_rate.max()} systems/year during 2021\")"
   ]
  },
  {
   "attachments": {},
   "cell_type": "markdown",
   "metadata": {},
   "source": [
    "##### **1.3. What percentage of all installed systems were interconnected?**\n",
    "\n",
    "First, I need to find from installed system's lead_id, those lead_ids which has a report of interconnection"
   ]
  },
  {
   "attachments": {},
   "cell_type": "markdown",
   "metadata": {},
   "source": [
    "**Using SQL:**"
   ]
  },
  {
   "cell_type": "code",
   "execution_count": 23,
   "metadata": {},
   "outputs": [
    {
     "name": "stdout",
     "output_type": "stream",
     "text": [
      " * sqlite:///C:\\Users\\Emmanuel\\Desktop\\bright.sqlite\n",
      "Done.\n"
     ]
    },
    {
     "data": {
      "text/html": [
       "<table>\n",
       "    <thead>\n",
       "        <tr>\n",
       "            <th>rate of interconnection</th>\n",
       "        </tr>\n",
       "    </thead>\n",
       "    <tbody>\n",
       "        <tr>\n",
       "            <td>81</td>\n",
       "        </tr>\n",
       "    </tbody>\n",
       "</table>"
      ],
      "text/plain": [
       "[(81,)]"
      ]
     },
     "execution_count": 23,
     "metadata": {},
     "output_type": "execute_result"
    }
   ],
   "source": [
    "%%sql\n",
    "SELECT 100 * (SELECT COUNT(*) FROM event\n",
    "        WHERE event_type = 'doc.interconnection.approved')/COUNT(*) AS \"rate of interconnection\" \n",
    "FROM event \n",
    "WHERE event_type = 'doc.installationComplete.uploaded';"
   ]
  },
  {
   "attachments": {},
   "cell_type": "markdown",
   "metadata": {},
   "source": [
    "**Using Python:**\n",
    "\n",
    "First I retrieve those lead_id with complete installation and those with complete interconnection."
   ]
  },
  {
   "cell_type": "code",
   "execution_count": 24,
   "metadata": {},
   "outputs": [],
   "source": [
    "installed=event.query(\"event_type == 'doc.installationComplete.uploaded'\").lead_id\n",
    "interconnected=event.query(\"event_type == 'doc.interconnection.approved'\").lead_id"
   ]
  },
  {
   "attachments": {},
   "cell_type": "markdown",
   "metadata": {},
   "source": [
    "Then, I just divide the lenght of both installed and interconnected list. To make it more visible, i will print a little sentence."
   ]
  },
  {
   "cell_type": "code",
   "execution_count": 25,
   "metadata": {},
   "outputs": [
    {
     "name": "stdout",
     "output_type": "stream",
     "text": [
      "There are 4588 leads that has installed systems and 3743 with interconnected systems, \n",
      "which means the rate of interconnection is 81.58 %\n"
     ]
    }
   ],
   "source": [
    "print(f\"There are {len(installed)} leads that has installed systems and {len(interconnected)} with \"+\n",
    "      f\"interconnected systems, \\nwhich means the rate of interconnection is {round(100*len(interconnected)/len(installed),2)} %\")"
   ]
  },
  {
   "attachments": {},
   "cell_type": "markdown",
   "metadata": {},
   "source": [
    "**Using SQL to retrieve the number of installed systems**:"
   ]
  },
  {
   "cell_type": "code",
   "execution_count": 26,
   "metadata": {},
   "outputs": [
    {
     "name": "stdout",
     "output_type": "stream",
     "text": [
      " * sqlite:///C:\\Users\\Emmanuel\\Desktop\\bright.sqlite\n",
      "Done.\n"
     ]
    },
    {
     "data": {
      "text/html": [
       "<table>\n",
       "    <thead>\n",
       "        <tr>\n",
       "            <th>Installed_systems</th>\n",
       "        </tr>\n",
       "    </thead>\n",
       "    <tbody>\n",
       "        <tr>\n",
       "            <td>4588</td>\n",
       "        </tr>\n",
       "    </tbody>\n",
       "</table>"
      ],
      "text/plain": [
       "[(4588,)]"
      ]
     },
     "execution_count": 26,
     "metadata": {},
     "output_type": "execute_result"
    }
   ],
   "source": [
    "%%sql\n",
    "SELECT COUNT(*) AS Installed_systems FROM event\n",
    "WHERE event_type=\"doc.installationComplete.uploaded\""
   ]
  },
  {
   "attachments": {},
   "cell_type": "markdown",
   "metadata": {},
   "source": [
    "**Pie chart of Installed systems**"
   ]
  },
  {
   "cell_type": "code",
   "execution_count": 27,
   "metadata": {},
   "outputs": [
    {
     "data": {
      "image/png": "[encoded data removed]",
      "text/plain": [
       "<Figure size 1000x800 with 1 Axes>"
      ]
     },
     "metadata": {},
     "output_type": "display_data"
    }
   ],
   "source": [
    "plt.figure(figsize=(10,8))\n",
    "fig=plt.pie(x=[len(interconnected),len(installed)-len(interconnected)],\n",
    "            labels=[\"Interconnected systems\", \"Isolated systems\"],\n",
    "            autopct=\"%1.1f%%\"\n",
    "        )\n",
    "plt.title(f\"Installed systems\\n Total:{round(len(installed),2)}\")\n",
    "plt.show()"
   ]
  },
  {
   "cell_type": "code",
   "execution_count": 111,
   "metadata": {},
   "outputs": [
    {
     "name": "stdout",
     "output_type": "stream",
     "text": [
      "Isolated systems: 845\n"
     ]
    }
   ],
   "source": [
    "print(f\"Isolated systems: {len(installed)-len(interconnected)}\")"
   ]
  },
  {
   "attachments": {},
   "cell_type": "markdown",
   "metadata": {},
   "source": [
    "##### **1.4. How many installed systems were made to different leads?**"
   ]
  },
  {
   "attachments": {},
   "cell_type": "markdown",
   "metadata": {},
   "source": [
    "**Using SQL:**"
   ]
  },
  {
   "cell_type": "code",
   "execution_count": 28,
   "metadata": {},
   "outputs": [
    {
     "name": "stdout",
     "output_type": "stream",
     "text": [
      " * sqlite:///C:\\Users\\Emmanuel\\Desktop\\bright.sqlite\n",
      "Done.\n"
     ]
    },
    {
     "data": {
      "text/html": [
       "<table>\n",
       "    <thead>\n",
       "        <tr>\n",
       "            <th>Different leads with different systems</th>\n",
       "        </tr>\n",
       "    </thead>\n",
       "    <tbody>\n",
       "        <tr>\n",
       "            <td>3563</td>\n",
       "        </tr>\n",
       "    </tbody>\n",
       "</table>"
      ],
      "text/plain": [
       "[(3563,)]"
      ]
     },
     "execution_count": 28,
     "metadata": {},
     "output_type": "execute_result"
    }
   ],
   "source": [
    "%%sql\n",
    "SELECT COUNT(*) AS \"Different leads with different systems\" FROM lead\n",
    "WHERE lead_id IN (SELECT lead_id FROM event\n",
    "                  WHERE event_type = \"doc.installationComplete.uploaded\");"
   ]
  },
  {
   "attachments": {},
   "cell_type": "markdown",
   "metadata": {},
   "source": [
    "**Using Python:**"
   ]
  },
  {
   "cell_type": "code",
   "execution_count": 118,
   "metadata": {},
   "outputs": [
    {
     "name": "stdout",
     "output_type": "stream",
     "text": [
      "Data indicates that just 22.34 % of the leads ask for the installation of more than one solar installation\n"
     ]
    }
   ],
   "source": [
    "diff_leads=len(pd.unique(installed))\n",
    "print(f\"Data indicates that just {round(100*(1-diff_leads/len(installed)),2)} % of the leads ask for the installation of more than one solar installation\")"
   ]
  }
 ],
 "metadata": {
  "kernelspec": {
   "display_name": "Python 3",
   "language": "python",
   "name": "python3"
  },
  "language_info": {
   "codemirror_mode": {
    "name": "ipython",
    "version": 3
   },
   "file_extension": ".py",
   "mimetype": "text/x-python",
   "name": "python",
   "nbconvert_exporter": "python",
   "pygments_lexer": "ipython3",
   "version": "3.11.2"
  },
  "orig_nbformat": 4
 },
 "nbformat": 4,
 "nbformat_minor": 2
}
